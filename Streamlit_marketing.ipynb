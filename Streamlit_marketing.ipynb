{
 "cells": [
  {
   "cell_type": "code",
   "execution_count": 0,
   "metadata": {
    "application/vnd.databricks.v1+cell": {
     "cellMetadata": {
      "byteLimit": 2048000,
      "rowLimit": 10000
     },
     "inputWidgets": {},
     "nuid": "86bf823e-12d6-48ac-b2fa-5d335b89cf18",
     "showTitle": false,
     "title": ""
    }
   },
   "outputs": [
    {
     "output_type": "display_data",
     "data": {
      "text/html": [
       "<style scoped>\n",
       "  .ansiout {\n",
       "    display: block;\n",
       "    unicode-bidi: embed;\n",
       "    white-space: pre-wrap;\n",
       "    word-wrap: break-word;\n",
       "    word-break: break-all;\n",
       "    font-family: \"Menlo\", \"Monaco\", \"Consolas\", \"Ubuntu Mono\", \"Source Code Pro\", monospace;\n",
       "    font-size: 13px;\n",
       "    color: #555;\n",
       "    margin-left: 4px;\n",
       "    line-height: 19px;\n",
       "  }\n",
       "</style>\n",
       "<div class=\"ansiout\">Python interpreter will be restarted.\n",
       "Looking in indexes: https://pypi.org/simple, https://****@pkgs.dev.azure.com/basf4AP/AP_SGI/_packaging/SGI_Model_Feed/pypi/simple/, https://****@pkgs.dev.azure.com/basf4AP/AP_SGI/_packaging/SGI_Utils_Feed/pypi/simple/\n",
       "Requirement already satisfied: langchain in /databricks/python3/lib/python3.8/site-packages (0.0.335)\n",
       "Requirement already satisfied: dataclasses-json&lt;0.7,&gt;=0.5.7 in /databricks/python3/lib/python3.8/site-packages (from langchain) (0.6.2)\n",
       "Requirement already satisfied: requests&lt;3,&gt;=2 in /databricks/python3/lib/python3.8/site-packages (from langchain) (2.31.0)\n",
       "Requirement already satisfied: anyio&lt;4.0 in /databricks/python3/lib/python3.8/site-packages (from langchain) (3.7.1)\n",
       "Requirement already satisfied: aiohttp&lt;4.0.0,&gt;=3.8.3 in /databricks/python3/lib/python3.8/site-packages (from langchain) (3.8.6)\n",
       "Requirement already satisfied: numpy&lt;2,&gt;=1 in /databricks/python3/lib/python3.8/site-packages (from langchain) (1.22.4)\n",
       "Requirement already satisfied: jsonpatch&lt;2.0,&gt;=1.33 in /databricks/python3/lib/python3.8/site-packages (from langchain) (1.33)\n",
       "Requirement already satisfied: pydantic&lt;3,&gt;=1 in /databricks/python3/lib/python3.8/site-packages (from langchain) (2.4.2)\n",
       "Requirement already satisfied: async-timeout&lt;5.0.0,&gt;=4.0.0 in /databricks/python3/lib/python3.8/site-packages (from langchain) (4.0.3)\n",
       "Requirement already satisfied: SQLAlchemy&lt;3,&gt;=1.4 in /databricks/python3/lib/python3.8/site-packages (from langchain) (1.4.50)\n",
       "Requirement already satisfied: tenacity&lt;9.0.0,&gt;=8.1.0 in /databricks/python3/lib/python3.8/site-packages (from langchain) (8.2.3)\n",
       "Requirement already satisfied: langsmith&lt;0.1.0,&gt;=0.0.63 in /databricks/python3/lib/python3.8/site-packages (from langchain) (0.0.64)\n",
       "Requirement already satisfied: PyYAML&gt;=5.3 in /databricks/python3/lib/python3.8/site-packages (from langchain) (5.4.1)\n",
       "Requirement already satisfied: aiosignal&gt;=1.1.2 in /databricks/python3/lib/python3.8/site-packages (from aiohttp&lt;4.0.0,&gt;=3.8.3-&gt;langchain) (1.3.1)\n",
       "Requirement already satisfied: attrs&gt;=17.3.0 in /databricks/python3/lib/python3.8/site-packages (from aiohttp&lt;4.0.0,&gt;=3.8.3-&gt;langchain) (23.1.0)\n",
       "Requirement already satisfied: yarl&lt;2.0,&gt;=1.0 in /databricks/python3/lib/python3.8/site-packages (from aiohttp&lt;4.0.0,&gt;=3.8.3-&gt;langchain) (1.9.2)\n",
       "Requirement already satisfied: multidict&lt;7.0,&gt;=4.5 in /databricks/python3/lib/python3.8/site-packages (from aiohttp&lt;4.0.0,&gt;=3.8.3-&gt;langchain) (6.0.4)\n",
       "Requirement already satisfied: frozenlist&gt;=1.1.1 in /databricks/python3/lib/python3.8/site-packages (from aiohttp&lt;4.0.0,&gt;=3.8.3-&gt;langchain) (1.4.0)\n",
       "Requirement already satisfied: charset-normalizer&lt;4.0,&gt;=2.0 in /databricks/python3/lib/python3.8/site-packages (from aiohttp&lt;4.0.0,&gt;=3.8.3-&gt;langchain) (3.3.2)\n",
       "Requirement already satisfied: sniffio&gt;=1.1 in /databricks/python3/lib/python3.8/site-packages (from anyio&lt;4.0-&gt;langchain) (1.3.0)\n",
       "Requirement already satisfied: idna&gt;=2.8 in /databricks/python3/lib/python3.8/site-packages (from anyio&lt;4.0-&gt;langchain) (2.10)\n",
       "Requirement already satisfied: exceptiongroup in /databricks/python3/lib/python3.8/site-packages (from anyio&lt;4.0-&gt;langchain) (1.1.3)\n",
       "Requirement already satisfied: marshmallow&lt;4.0.0,&gt;=3.18.0 in /databricks/python3/lib/python3.8/site-packages (from dataclasses-json&lt;0.7,&gt;=0.5.7-&gt;langchain) (3.20.1)\n",
       "Requirement already satisfied: typing-inspect&lt;1,&gt;=0.4.0 in /databricks/python3/lib/python3.8/site-packages (from dataclasses-json&lt;0.7,&gt;=0.5.7-&gt;langchain) (0.9.0)\n",
       "Requirement already satisfied: jsonpointer&gt;=1.9 in /databricks/python3/lib/python3.8/site-packages (from jsonpatch&lt;2.0,&gt;=1.33-&gt;langchain) (2.4)\n",
       "Requirement already satisfied: packaging&gt;=17.0 in /databricks/python3/lib/python3.8/site-packages (from marshmallow&lt;4.0.0,&gt;=3.18.0-&gt;dataclasses-json&lt;0.7,&gt;=0.5.7-&gt;langchain) (21.3)\n",
       "Requirement already satisfied: pyparsing!=3.0.5,&gt;=2.0.2 in /databricks/python3/lib/python3.8/site-packages (from packaging&gt;=17.0-&gt;marshmallow&lt;4.0.0,&gt;=3.18.0-&gt;dataclasses-json&lt;0.7,&gt;=0.5.7-&gt;langchain) (2.4.7)\n",
       "Requirement already satisfied: pydantic-core==2.10.1 in /databricks/python3/lib/python3.8/site-packages (from pydantic&lt;3,&gt;=1-&gt;langchain) (2.10.1)\n",
       "Requirement already satisfied: annotated-types&gt;=0.4.0 in /databricks/python3/lib/python3.8/site-packages (from pydantic&lt;3,&gt;=1-&gt;langchain) (0.6.0)\n",
       "Requirement already satisfied: typing-extensions&gt;=4.6.1 in /databricks/python3/lib/python3.8/site-packages (from pydantic&lt;3,&gt;=1-&gt;langchain) (4.8.0)\n",
       "Requirement already satisfied: certifi&gt;=2017.4.17 in /databricks/python3/lib/python3.8/site-packages (from requests&lt;3,&gt;=2-&gt;langchain) (2020.12.5)\n",
       "Requirement already satisfied: urllib3&lt;3,&gt;=1.21.1 in /databricks/python3/lib/python3.8/site-packages (from requests&lt;3,&gt;=2-&gt;langchain) (1.26.16)\n",
       "Requirement already satisfied: greenlet!=0.4.17 in /databricks/python3/lib/python3.8/site-packages (from SQLAlchemy&lt;3,&gt;=1.4-&gt;langchain) (3.0.1)\n",
       "Requirement already satisfied: mypy-extensions&gt;=0.3.0 in /databricks/python3/lib/python3.8/site-packages (from typing-inspect&lt;1,&gt;=0.4.0-&gt;dataclasses-json&lt;0.7,&gt;=0.5.7-&gt;langchain) (1.0.0)\n",
       "Python interpreter will be restarted.\n",
       "</div>"
      ]
     },
     "metadata": {
      "application/vnd.databricks.v1+output": {
       "addedWidgets": {},
       "arguments": {},
       "data": "<div class=\"ansiout\">Python interpreter will be restarted.\nLooking in indexes: https://pypi.org/simple, https://****@pkgs.dev.azure.com/basf4AP/AP_SGI/_packaging/SGI_Model_Feed/pypi/simple/, https://****@pkgs.dev.azure.com/basf4AP/AP_SGI/_packaging/SGI_Utils_Feed/pypi/simple/\nRequirement already satisfied: langchain in /databricks/python3/lib/python3.8/site-packages (0.0.335)\nRequirement already satisfied: dataclasses-json&lt;0.7,&gt;=0.5.7 in /databricks/python3/lib/python3.8/site-packages (from langchain) (0.6.2)\nRequirement already satisfied: requests&lt;3,&gt;=2 in /databricks/python3/lib/python3.8/site-packages (from langchain) (2.31.0)\nRequirement already satisfied: anyio&lt;4.0 in /databricks/python3/lib/python3.8/site-packages (from langchain) (3.7.1)\nRequirement already satisfied: aiohttp&lt;4.0.0,&gt;=3.8.3 in /databricks/python3/lib/python3.8/site-packages (from langchain) (3.8.6)\nRequirement already satisfied: numpy&lt;2,&gt;=1 in /databricks/python3/lib/python3.8/site-packages (from langchain) (1.22.4)\nRequirement already satisfied: jsonpatch&lt;2.0,&gt;=1.33 in /databricks/python3/lib/python3.8/site-packages (from langchain) (1.33)\nRequirement already satisfied: pydantic&lt;3,&gt;=1 in /databricks/python3/lib/python3.8/site-packages (from langchain) (2.4.2)\nRequirement already satisfied: async-timeout&lt;5.0.0,&gt;=4.0.0 in /databricks/python3/lib/python3.8/site-packages (from langchain) (4.0.3)\nRequirement already satisfied: SQLAlchemy&lt;3,&gt;=1.4 in /databricks/python3/lib/python3.8/site-packages (from langchain) (1.4.50)\nRequirement already satisfied: tenacity&lt;9.0.0,&gt;=8.1.0 in /databricks/python3/lib/python3.8/site-packages (from langchain) (8.2.3)\nRequirement already satisfied: langsmith&lt;0.1.0,&gt;=0.0.63 in /databricks/python3/lib/python3.8/site-packages (from langchain) (0.0.64)\nRequirement already satisfied: PyYAML&gt;=5.3 in /databricks/python3/lib/python3.8/site-packages (from langchain) (5.4.1)\nRequirement already satisfied: aiosignal&gt;=1.1.2 in /databricks/python3/lib/python3.8/site-packages (from aiohttp&lt;4.0.0,&gt;=3.8.3-&gt;langchain) (1.3.1)\nRequirement already satisfied: attrs&gt;=17.3.0 in /databricks/python3/lib/python3.8/site-packages (from aiohttp&lt;4.0.0,&gt;=3.8.3-&gt;langchain) (23.1.0)\nRequirement already satisfied: yarl&lt;2.0,&gt;=1.0 in /databricks/python3/lib/python3.8/site-packages (from aiohttp&lt;4.0.0,&gt;=3.8.3-&gt;langchain) (1.9.2)\nRequirement already satisfied: multidict&lt;7.0,&gt;=4.5 in /databricks/python3/lib/python3.8/site-packages (from aiohttp&lt;4.0.0,&gt;=3.8.3-&gt;langchain) (6.0.4)\nRequirement already satisfied: frozenlist&gt;=1.1.1 in /databricks/python3/lib/python3.8/site-packages (from aiohttp&lt;4.0.0,&gt;=3.8.3-&gt;langchain) (1.4.0)\nRequirement already satisfied: charset-normalizer&lt;4.0,&gt;=2.0 in /databricks/python3/lib/python3.8/site-packages (from aiohttp&lt;4.0.0,&gt;=3.8.3-&gt;langchain) (3.3.2)\nRequirement already satisfied: sniffio&gt;=1.1 in /databricks/python3/lib/python3.8/site-packages (from anyio&lt;4.0-&gt;langchain) (1.3.0)\nRequirement already satisfied: idna&gt;=2.8 in /databricks/python3/lib/python3.8/site-packages (from anyio&lt;4.0-&gt;langchain) (2.10)\nRequirement already satisfied: exceptiongroup in /databricks/python3/lib/python3.8/site-packages (from anyio&lt;4.0-&gt;langchain) (1.1.3)\nRequirement already satisfied: marshmallow&lt;4.0.0,&gt;=3.18.0 in /databricks/python3/lib/python3.8/site-packages (from dataclasses-json&lt;0.7,&gt;=0.5.7-&gt;langchain) (3.20.1)\nRequirement already satisfied: typing-inspect&lt;1,&gt;=0.4.0 in /databricks/python3/lib/python3.8/site-packages (from dataclasses-json&lt;0.7,&gt;=0.5.7-&gt;langchain) (0.9.0)\nRequirement already satisfied: jsonpointer&gt;=1.9 in /databricks/python3/lib/python3.8/site-packages (from jsonpatch&lt;2.0,&gt;=1.33-&gt;langchain) (2.4)\nRequirement already satisfied: packaging&gt;=17.0 in /databricks/python3/lib/python3.8/site-packages (from marshmallow&lt;4.0.0,&gt;=3.18.0-&gt;dataclasses-json&lt;0.7,&gt;=0.5.7-&gt;langchain) (21.3)\nRequirement already satisfied: pyparsing!=3.0.5,&gt;=2.0.2 in /databricks/python3/lib/python3.8/site-packages (from packaging&gt;=17.0-&gt;marshmallow&lt;4.0.0,&gt;=3.18.0-&gt;dataclasses-json&lt;0.7,&gt;=0.5.7-&gt;langchain) (2.4.7)\nRequirement already satisfied: pydantic-core==2.10.1 in /databricks/python3/lib/python3.8/site-packages (from pydantic&lt;3,&gt;=1-&gt;langchain) (2.10.1)\nRequirement already satisfied: annotated-types&gt;=0.4.0 in /databricks/python3/lib/python3.8/site-packages (from pydantic&lt;3,&gt;=1-&gt;langchain) (0.6.0)\nRequirement already satisfied: typing-extensions&gt;=4.6.1 in /databricks/python3/lib/python3.8/site-packages (from pydantic&lt;3,&gt;=1-&gt;langchain) (4.8.0)\nRequirement already satisfied: certifi&gt;=2017.4.17 in /databricks/python3/lib/python3.8/site-packages (from requests&lt;3,&gt;=2-&gt;langchain) (2020.12.5)\nRequirement already satisfied: urllib3&lt;3,&gt;=1.21.1 in /databricks/python3/lib/python3.8/site-packages (from requests&lt;3,&gt;=2-&gt;langchain) (1.26.16)\nRequirement already satisfied: greenlet!=0.4.17 in /databricks/python3/lib/python3.8/site-packages (from SQLAlchemy&lt;3,&gt;=1.4-&gt;langchain) (3.0.1)\nRequirement already satisfied: mypy-extensions&gt;=0.3.0 in /databricks/python3/lib/python3.8/site-packages (from typing-inspect&lt;1,&gt;=0.4.0-&gt;dataclasses-json&lt;0.7,&gt;=0.5.7-&gt;langchain) (1.0.0)\nPython interpreter will be restarted.\n</div>",
       "datasetInfos": [],
       "metadata": {},
       "removedWidgets": [],
       "type": "html"
      }
     },
     "output_type": "display_data"
    }
   ],
   "source": [
    "%pip install langchain"
   ]
  },
  {
   "cell_type": "code",
   "execution_count": 0,
   "metadata": {
    "application/vnd.databricks.v1+cell": {
     "cellMetadata": {
      "byteLimit": 2048000,
      "rowLimit": 10000
     },
     "inputWidgets": {},
     "nuid": "30688f31-9ae3-4e5b-b202-5e9d803ba571",
     "showTitle": false,
     "title": ""
    }
   },
   "outputs": [
    {
     "output_type": "display_data",
     "data": {
      "text/html": [
       "<style scoped>\n",
       "  .ansiout {\n",
       "    display: block;\n",
       "    unicode-bidi: embed;\n",
       "    white-space: pre-wrap;\n",
       "    word-wrap: break-word;\n",
       "    word-break: break-all;\n",
       "    font-family: \"Menlo\", \"Monaco\", \"Consolas\", \"Ubuntu Mono\", \"Source Code Pro\", monospace;\n",
       "    font-size: 13px;\n",
       "    color: #555;\n",
       "    margin-left: 4px;\n",
       "    line-height: 19px;\n",
       "  }\n",
       "</style>\n",
       "<div class=\"ansiout\">Python interpreter will be restarted.\n",
       "Looking in indexes: https://pypi.org/simple, https://****@pkgs.dev.azure.com/basf4AP/AP_SGI/_packaging/SGI_Model_Feed/pypi/simple/, https://****@pkgs.dev.azure.com/basf4AP/AP_SGI/_packaging/SGI_Utils_Feed/pypi/simple/\n",
       "Requirement already satisfied: openai in /local_disk0/.ephemeral_nfs/envs/pythonEnv-36a46d7d-5810-4d8d-bec4-7b38eb12ffbd/lib/python3.8/site-packages (1.2.4)\n",
       "Requirement already satisfied: tiktoken in /local_disk0/.ephemeral_nfs/envs/pythonEnv-36a46d7d-5810-4d8d-bec4-7b38eb12ffbd/lib/python3.8/site-packages (0.5.1)\n",
       "Requirement already satisfied: sentence-transformers in /local_disk0/.ephemeral_nfs/envs/pythonEnv-36a46d7d-5810-4d8d-bec4-7b38eb12ffbd/lib/python3.8/site-packages (2.2.2)\n",
       "Requirement already satisfied: faiss-cpu in /local_disk0/.ephemeral_nfs/envs/pythonEnv-36a46d7d-5810-4d8d-bec4-7b38eb12ffbd/lib/python3.8/site-packages (1.7.4)\n",
       "Requirement already satisfied: pydantic&lt;3,&gt;=1.9.0 in /databricks/python3/lib/python3.8/site-packages (from openai) (2.4.2)\n",
       "Requirement already satisfied: tqdm&gt;4 in /databricks/python3/lib/python3.8/site-packages (from openai) (4.59.0)\n",
       "Requirement already satisfied: distro&lt;2,&gt;=1.7.0 in /local_disk0/.ephemeral_nfs/envs/pythonEnv-36a46d7d-5810-4d8d-bec4-7b38eb12ffbd/lib/python3.8/site-packages (from openai) (1.8.0)\n",
       "Requirement already satisfied: httpx&lt;1,&gt;=0.23.0 in /local_disk0/.ephemeral_nfs/envs/pythonEnv-36a46d7d-5810-4d8d-bec4-7b38eb12ffbd/lib/python3.8/site-packages (from openai) (0.25.1)\n",
       "Requirement already satisfied: anyio&lt;4,&gt;=3.5.0 in /databricks/python3/lib/python3.8/site-packages (from openai) (3.7.1)\n",
       "Requirement already satisfied: typing-extensions&lt;5,&gt;=4.5 in /databricks/python3/lib/python3.8/site-packages (from openai) (4.8.0)\n",
       "Requirement already satisfied: sniffio&gt;=1.1 in /databricks/python3/lib/python3.8/site-packages (from anyio&lt;4,&gt;=3.5.0-&gt;openai) (1.3.0)\n",
       "Requirement already satisfied: idna&gt;=2.8 in /databricks/python3/lib/python3.8/site-packages (from anyio&lt;4,&gt;=3.5.0-&gt;openai) (2.10)\n",
       "Requirement already satisfied: exceptiongroup in /databricks/python3/lib/python3.8/site-packages (from anyio&lt;4,&gt;=3.5.0-&gt;openai) (1.1.3)\n",
       "Requirement already satisfied: httpcore in /local_disk0/.ephemeral_nfs/envs/pythonEnv-36a46d7d-5810-4d8d-bec4-7b38eb12ffbd/lib/python3.8/site-packages (from httpx&lt;1,&gt;=0.23.0-&gt;openai) (1.0.2)\n",
       "Requirement already satisfied: certifi in /databricks/python3/lib/python3.8/site-packages (from httpx&lt;1,&gt;=0.23.0-&gt;openai) (2020.12.5)\n",
       "Requirement already satisfied: pydantic-core==2.10.1 in /databricks/python3/lib/python3.8/site-packages (from pydantic&lt;3,&gt;=1.9.0-&gt;openai) (2.10.1)\n",
       "Requirement already satisfied: annotated-types&gt;=0.4.0 in /databricks/python3/lib/python3.8/site-packages (from pydantic&lt;3,&gt;=1.9.0-&gt;openai) (0.6.0)\n",
       "Requirement already satisfied: scikit-learn in /databricks/python3/lib/python3.8/site-packages (from sentence-transformers) (0.24.1)\n",
       "Requirement already satisfied: nltk in /databricks/python3/lib/python3.8/site-packages (from sentence-transformers) (3.6.1)\n",
       "Requirement already satisfied: transformers&lt;5.0.0,&gt;=4.6.0 in /databricks/python3/lib/python3.8/site-packages (from sentence-transformers) (4.16.2)\n",
       "Requirement already satisfied: huggingface-hub&gt;=0.4.0 in /local_disk0/.ephemeral_nfs/envs/pythonEnv-36a46d7d-5810-4d8d-bec4-7b38eb12ffbd/lib/python3.8/site-packages (from sentence-transformers) (0.19.2)\n",
       "Requirement already satisfied: scipy in /databricks/python3/lib/python3.8/site-packages (from sentence-transformers) (1.6.2)\n",
       "Requirement already satisfied: torchvision in /databricks/python3/lib/python3.8/site-packages (from sentence-transformers) (0.11.3+cpu)\n",
       "Requirement already satisfied: sentencepiece in /local_disk0/.ephemeral_nfs/envs/pythonEnv-36a46d7d-5810-4d8d-bec4-7b38eb12ffbd/lib/python3.8/site-packages (from sentence-transformers) (0.1.99)\n",
       "Requirement already satisfied: torch&gt;=1.6.0 in /databricks/python3/lib/python3.8/site-packages (from sentence-transformers) (1.10.2+cpu)\n",
       "Requirement already satisfied: numpy in /databricks/python3/lib/python3.8/site-packages (from sentence-transformers) (1.22.4)\n",
       "Requirement already satisfied: fsspec&gt;=2023.5.0 in /local_disk0/.ephemeral_nfs/envs/pythonEnv-36a46d7d-5810-4d8d-bec4-7b38eb12ffbd/lib/python3.8/site-packages (from huggingface-hub&gt;=0.4.0-&gt;sentence-transformers) (2023.10.0)\n",
       "Requirement already satisfied: packaging&gt;=20.9 in /databricks/python3/lib/python3.8/site-packages (from huggingface-hub&gt;=0.4.0-&gt;sentence-transformers) (21.3)\n",
       "Requirement already satisfied: requests in /databricks/python3/lib/python3.8/site-packages (from huggingface-hub&gt;=0.4.0-&gt;sentence-transformers) (2.31.0)\n",
       "Requirement already satisfied: pyyaml&gt;=5.1 in /databricks/python3/lib/python3.8/site-packages (from huggingface-hub&gt;=0.4.0-&gt;sentence-transformers) (5.4.1)\n",
       "Requirement already satisfied: filelock in /databricks/python3/lib/python3.8/site-packages (from huggingface-hub&gt;=0.4.0-&gt;sentence-transformers) (3.0.12)\n",
       "Requirement already satisfied: pyparsing!=3.0.5,&gt;=2.0.2 in /databricks/python3/lib/python3.8/site-packages (from packaging&gt;=20.9-&gt;huggingface-hub&gt;=0.4.0-&gt;sentence-transformers) (2.4.7)\n",
       "Requirement already satisfied: sacremoses in /databricks/python3/lib/python3.8/site-packages (from transformers&lt;5.0.0,&gt;=4.6.0-&gt;sentence-transformers) (0.0.46)\n",
       "Requirement already satisfied: tokenizers!=0.11.3,&gt;=0.10.1 in /databricks/python3/lib/python3.8/site-packages (from transformers&lt;5.0.0,&gt;=4.6.0-&gt;sentence-transformers) (0.10.3)\n",
       "Requirement already satisfied: regex!=2019.12.17 in /local_disk0/.ephemeral_nfs/envs/pythonEnv-36a46d7d-5810-4d8d-bec4-7b38eb12ffbd/lib/python3.8/site-packages (from transformers&lt;5.0.0,&gt;=4.6.0-&gt;sentence-transformers) (2023.10.3)\n",
       "Requirement already satisfied: urllib3&lt;3,&gt;=1.21.1 in /databricks/python3/lib/python3.8/site-packages (from requests-&gt;huggingface-hub&gt;=0.4.0-&gt;sentence-transformers) (1.26.16)\n",
       "Requirement already satisfied: charset-normalizer&lt;4,&gt;=2 in /databricks/python3/lib/python3.8/site-packages (from requests-&gt;huggingface-hub&gt;=0.4.0-&gt;sentence-transformers) (3.3.2)\n",
       "Requirement already satisfied: h11&lt;0.15,&gt;=0.13 in /local_disk0/.ephemeral_nfs/envs/pythonEnv-36a46d7d-5810-4d8d-bec4-7b38eb12ffbd/lib/python3.8/site-packages (from httpcore-&gt;httpx&lt;1,&gt;=0.23.0-&gt;openai) (0.14.0)\n",
       "Requirement already satisfied: click in /databricks/python3/lib/python3.8/site-packages (from nltk-&gt;sentence-transformers) (8.1.7)\n",
       "Requirement already satisfied: joblib in /databricks/python3/lib/python3.8/site-packages (from nltk-&gt;sentence-transformers) (1.0.1)\n",
       "Requirement already satisfied: six in /databricks/python3/lib/python3.8/site-packages (from sacremoses-&gt;transformers&lt;5.0.0,&gt;=4.6.0-&gt;sentence-transformers) (1.15.0)\n",
       "Requirement already satisfied: threadpoolctl&gt;=2.0.0 in /databricks/python3/lib/python3.8/site-packages (from scikit-learn-&gt;sentence-transformers) (2.1.0)\n",
       "Requirement already satisfied: pillow!=8.3.0,&gt;=5.3.0 in /databricks/python3/lib/python3.8/site-packages (from torchvision-&gt;sentence-transformers) (8.2.0)\n",
       "Python interpreter will be restarted.\n",
       "</div>"
      ]
     },
     "metadata": {
      "application/vnd.databricks.v1+output": {
       "addedWidgets": {},
       "arguments": {},
       "data": "<div class=\"ansiout\">Python interpreter will be restarted.\nLooking in indexes: https://pypi.org/simple, https://****@pkgs.dev.azure.com/basf4AP/AP_SGI/_packaging/SGI_Model_Feed/pypi/simple/, https://****@pkgs.dev.azure.com/basf4AP/AP_SGI/_packaging/SGI_Utils_Feed/pypi/simple/\nRequirement already satisfied: openai in /local_disk0/.ephemeral_nfs/envs/pythonEnv-36a46d7d-5810-4d8d-bec4-7b38eb12ffbd/lib/python3.8/site-packages (1.2.4)\nRequirement already satisfied: tiktoken in /local_disk0/.ephemeral_nfs/envs/pythonEnv-36a46d7d-5810-4d8d-bec4-7b38eb12ffbd/lib/python3.8/site-packages (0.5.1)\nRequirement already satisfied: sentence-transformers in /local_disk0/.ephemeral_nfs/envs/pythonEnv-36a46d7d-5810-4d8d-bec4-7b38eb12ffbd/lib/python3.8/site-packages (2.2.2)\nRequirement already satisfied: faiss-cpu in /local_disk0/.ephemeral_nfs/envs/pythonEnv-36a46d7d-5810-4d8d-bec4-7b38eb12ffbd/lib/python3.8/site-packages (1.7.4)\nRequirement already satisfied: pydantic&lt;3,&gt;=1.9.0 in /databricks/python3/lib/python3.8/site-packages (from openai) (2.4.2)\nRequirement already satisfied: tqdm&gt;4 in /databricks/python3/lib/python3.8/site-packages (from openai) (4.59.0)\nRequirement already satisfied: distro&lt;2,&gt;=1.7.0 in /local_disk0/.ephemeral_nfs/envs/pythonEnv-36a46d7d-5810-4d8d-bec4-7b38eb12ffbd/lib/python3.8/site-packages (from openai) (1.8.0)\nRequirement already satisfied: httpx&lt;1,&gt;=0.23.0 in /local_disk0/.ephemeral_nfs/envs/pythonEnv-36a46d7d-5810-4d8d-bec4-7b38eb12ffbd/lib/python3.8/site-packages (from openai) (0.25.1)\nRequirement already satisfied: anyio&lt;4,&gt;=3.5.0 in /databricks/python3/lib/python3.8/site-packages (from openai) (3.7.1)\nRequirement already satisfied: typing-extensions&lt;5,&gt;=4.5 in /databricks/python3/lib/python3.8/site-packages (from openai) (4.8.0)\nRequirement already satisfied: sniffio&gt;=1.1 in /databricks/python3/lib/python3.8/site-packages (from anyio&lt;4,&gt;=3.5.0-&gt;openai) (1.3.0)\nRequirement already satisfied: idna&gt;=2.8 in /databricks/python3/lib/python3.8/site-packages (from anyio&lt;4,&gt;=3.5.0-&gt;openai) (2.10)\nRequirement already satisfied: exceptiongroup in /databricks/python3/lib/python3.8/site-packages (from anyio&lt;4,&gt;=3.5.0-&gt;openai) (1.1.3)\nRequirement already satisfied: httpcore in /local_disk0/.ephemeral_nfs/envs/pythonEnv-36a46d7d-5810-4d8d-bec4-7b38eb12ffbd/lib/python3.8/site-packages (from httpx&lt;1,&gt;=0.23.0-&gt;openai) (1.0.2)\nRequirement already satisfied: certifi in /databricks/python3/lib/python3.8/site-packages (from httpx&lt;1,&gt;=0.23.0-&gt;openai) (2020.12.5)\nRequirement already satisfied: pydantic-core==2.10.1 in /databricks/python3/lib/python3.8/site-packages (from pydantic&lt;3,&gt;=1.9.0-&gt;openai) (2.10.1)\nRequirement already satisfied: annotated-types&gt;=0.4.0 in /databricks/python3/lib/python3.8/site-packages (from pydantic&lt;3,&gt;=1.9.0-&gt;openai) (0.6.0)\nRequirement already satisfied: scikit-learn in /databricks/python3/lib/python3.8/site-packages (from sentence-transformers) (0.24.1)\nRequirement already satisfied: nltk in /databricks/python3/lib/python3.8/site-packages (from sentence-transformers) (3.6.1)\nRequirement already satisfied: transformers&lt;5.0.0,&gt;=4.6.0 in /databricks/python3/lib/python3.8/site-packages (from sentence-transformers) (4.16.2)\nRequirement already satisfied: huggingface-hub&gt;=0.4.0 in /local_disk0/.ephemeral_nfs/envs/pythonEnv-36a46d7d-5810-4d8d-bec4-7b38eb12ffbd/lib/python3.8/site-packages (from sentence-transformers) (0.19.2)\nRequirement already satisfied: scipy in /databricks/python3/lib/python3.8/site-packages (from sentence-transformers) (1.6.2)\nRequirement already satisfied: torchvision in /databricks/python3/lib/python3.8/site-packages (from sentence-transformers) (0.11.3+cpu)\nRequirement already satisfied: sentencepiece in /local_disk0/.ephemeral_nfs/envs/pythonEnv-36a46d7d-5810-4d8d-bec4-7b38eb12ffbd/lib/python3.8/site-packages (from sentence-transformers) (0.1.99)\nRequirement already satisfied: torch&gt;=1.6.0 in /databricks/python3/lib/python3.8/site-packages (from sentence-transformers) (1.10.2+cpu)\nRequirement already satisfied: numpy in /databricks/python3/lib/python3.8/site-packages (from sentence-transformers) (1.22.4)\nRequirement already satisfied: fsspec&gt;=2023.5.0 in /local_disk0/.ephemeral_nfs/envs/pythonEnv-36a46d7d-5810-4d8d-bec4-7b38eb12ffbd/lib/python3.8/site-packages (from huggingface-hub&gt;=0.4.0-&gt;sentence-transformers) (2023.10.0)\nRequirement already satisfied: packaging&gt;=20.9 in /databricks/python3/lib/python3.8/site-packages (from huggingface-hub&gt;=0.4.0-&gt;sentence-transformers) (21.3)\nRequirement already satisfied: requests in /databricks/python3/lib/python3.8/site-packages (from huggingface-hub&gt;=0.4.0-&gt;sentence-transformers) (2.31.0)\nRequirement already satisfied: pyyaml&gt;=5.1 in /databricks/python3/lib/python3.8/site-packages (from huggingface-hub&gt;=0.4.0-&gt;sentence-transformers) (5.4.1)\nRequirement already satisfied: filelock in /databricks/python3/lib/python3.8/site-packages (from huggingface-hub&gt;=0.4.0-&gt;sentence-transformers) (3.0.12)\nRequirement already satisfied: pyparsing!=3.0.5,&gt;=2.0.2 in /databricks/python3/lib/python3.8/site-packages (from packaging&gt;=20.9-&gt;huggingface-hub&gt;=0.4.0-&gt;sentence-transformers) (2.4.7)\nRequirement already satisfied: sacremoses in /databricks/python3/lib/python3.8/site-packages (from transformers&lt;5.0.0,&gt;=4.6.0-&gt;sentence-transformers) (0.0.46)\nRequirement already satisfied: tokenizers!=0.11.3,&gt;=0.10.1 in /databricks/python3/lib/python3.8/site-packages (from transformers&lt;5.0.0,&gt;=4.6.0-&gt;sentence-transformers) (0.10.3)\nRequirement already satisfied: regex!=2019.12.17 in /local_disk0/.ephemeral_nfs/envs/pythonEnv-36a46d7d-5810-4d8d-bec4-7b38eb12ffbd/lib/python3.8/site-packages (from transformers&lt;5.0.0,&gt;=4.6.0-&gt;sentence-transformers) (2023.10.3)\nRequirement already satisfied: urllib3&lt;3,&gt;=1.21.1 in /databricks/python3/lib/python3.8/site-packages (from requests-&gt;huggingface-hub&gt;=0.4.0-&gt;sentence-transformers) (1.26.16)\nRequirement already satisfied: charset-normalizer&lt;4,&gt;=2 in /databricks/python3/lib/python3.8/site-packages (from requests-&gt;huggingface-hub&gt;=0.4.0-&gt;sentence-transformers) (3.3.2)\nRequirement already satisfied: h11&lt;0.15,&gt;=0.13 in /local_disk0/.ephemeral_nfs/envs/pythonEnv-36a46d7d-5810-4d8d-bec4-7b38eb12ffbd/lib/python3.8/site-packages (from httpcore-&gt;httpx&lt;1,&gt;=0.23.0-&gt;openai) (0.14.0)\nRequirement already satisfied: click in /databricks/python3/lib/python3.8/site-packages (from nltk-&gt;sentence-transformers) (8.1.7)\nRequirement already satisfied: joblib in /databricks/python3/lib/python3.8/site-packages (from nltk-&gt;sentence-transformers) (1.0.1)\nRequirement already satisfied: six in /databricks/python3/lib/python3.8/site-packages (from sacremoses-&gt;transformers&lt;5.0.0,&gt;=4.6.0-&gt;sentence-transformers) (1.15.0)\nRequirement already satisfied: threadpoolctl&gt;=2.0.0 in /databricks/python3/lib/python3.8/site-packages (from scikit-learn-&gt;sentence-transformers) (2.1.0)\nRequirement already satisfied: pillow!=8.3.0,&gt;=5.3.0 in /databricks/python3/lib/python3.8/site-packages (from torchvision-&gt;sentence-transformers) (8.2.0)\nPython interpreter will be restarted.\n</div>",
       "datasetInfos": [],
       "metadata": {},
       "removedWidgets": [],
       "type": "html"
      }
     },
     "output_type": "display_data"
    }
   ],
   "source": [
    "%pip install openai tiktoken sentence-transformers faiss-cpu\n"
   ]
  },
  {
   "cell_type": "code",
   "execution_count": 0,
   "metadata": {
    "application/vnd.databricks.v1+cell": {
     "cellMetadata": {
      "byteLimit": 2048000,
      "rowLimit": 10000
     },
     "inputWidgets": {},
     "nuid": "e1afb52a-dfc4-4ab1-8d9c-2e45aed758c6",
     "showTitle": false,
     "title": ""
    }
   },
   "outputs": [
    {
     "output_type": "display_data",
     "data": {
      "text/html": [
       "<style scoped>\n",
       "  .ansiout {\n",
       "    display: block;\n",
       "    unicode-bidi: embed;\n",
       "    white-space: pre-wrap;\n",
       "    word-wrap: break-word;\n",
       "    word-break: break-all;\n",
       "    font-family: \"Menlo\", \"Monaco\", \"Consolas\", \"Ubuntu Mono\", \"Source Code Pro\", monospace;\n",
       "    font-size: 13px;\n",
       "    color: #555;\n",
       "    margin-left: 4px;\n",
       "    line-height: 19px;\n",
       "  }\n",
       "</style>\n",
       "<div class=\"ansiout\"></div>"
      ]
     },
     "metadata": {
      "application/vnd.databricks.v1+output": {
       "addedWidgets": {},
       "arguments": {},
       "data": "<div class=\"ansiout\"></div>",
       "datasetInfos": [],
       "metadata": {},
       "removedWidgets": [],
       "type": "html"
      }
     },
     "output_type": "display_data"
    }
   ],
   "source": []
  },
  {
   "cell_type": "code",
   "execution_count": 0,
   "metadata": {
    "application/vnd.databricks.v1+cell": {
     "cellMetadata": {
      "byteLimit": 2048000,
      "rowLimit": 10000
     },
     "inputWidgets": {},
     "nuid": "a3b84b42-9dbd-4bca-8315-13fa05ca47f6",
     "showTitle": false,
     "title": ""
    }
   },
   "outputs": [
    {
     "output_type": "display_data",
     "data": {
      "text/html": [
       "<style scoped>\n",
       "  .ansiout {\n",
       "    display: block;\n",
       "    unicode-bidi: embed;\n",
       "    white-space: pre-wrap;\n",
       "    word-wrap: break-word;\n",
       "    word-break: break-all;\n",
       "    font-family: \"Menlo\", \"Monaco\", \"Consolas\", \"Ubuntu Mono\", \"Source Code Pro\", monospace;\n",
       "    font-size: 13px;\n",
       "    color: #555;\n",
       "    margin-left: 4px;\n",
       "    line-height: 19px;\n",
       "  }\n",
       "</style>\n",
       "<div class=\"ansiout\"></div>"
      ]
     },
     "metadata": {
      "application/vnd.databricks.v1+output": {
       "addedWidgets": {},
       "arguments": {},
       "data": "<div class=\"ansiout\"></div>",
       "datasetInfos": [],
       "metadata": {},
       "removedWidgets": [],
       "type": "html"
      }
     },
     "output_type": "display_data"
    }
   ],
   "source": []
  },
  {
   "cell_type": "code",
   "execution_count": 0,
   "metadata": {
    "application/vnd.databricks.v1+cell": {
     "cellMetadata": {
      "byteLimit": 2048000,
      "rowLimit": 10000
     },
     "inputWidgets": {},
     "nuid": "3d1b770a-98a1-444d-87d8-1715f6ace5e7",
     "showTitle": false,
     "title": ""
    }
   },
   "outputs": [
    {
     "output_type": "display_data",
     "data": {
      "text/html": [
       "<style scoped>\n",
       "  .ansiout {\n",
       "    display: block;\n",
       "    unicode-bidi: embed;\n",
       "    white-space: pre-wrap;\n",
       "    word-wrap: break-word;\n",
       "    word-break: break-all;\n",
       "    font-family: \"Menlo\", \"Monaco\", \"Consolas\", \"Ubuntu Mono\", \"Source Code Pro\", monospace;\n",
       "    font-size: 13px;\n",
       "    color: #555;\n",
       "    margin-left: 4px;\n",
       "    line-height: 19px;\n",
       "  }\n",
       "</style>\n",
       "<div class=\"ansiout\">/databricks/python/lib/python3.8/site-packages/langchain/chat_models/azure_openai.py:152: UserWarning: As of openai&gt;=1.0.0, Azure endpoints should be specified via the `azure_endpoint` param not `openai_api_base` (or alias `base_url`). Updating `openai_api_base` from [REDACTED] to [REDACTED]/openai.\n",
       "  warnings.warn(\n",
       "/databricks/python/lib/python3.8/site-packages/langchain/chat_models/azure_openai.py:159: UserWarning: As of openai&gt;=1.0.0, if `deployment_name` (or alias `azure_deployment`) is specified then `openai_api_base` (or alias `base_url`) should not be. Instead use `deployment_name` (or alias `azure_deployment`) and `azure_endpoint`.\n",
       "  warnings.warn(\n",
       "/databricks/python/lib/python3.8/site-packages/langchain/chat_models/azure_openai.py:167: UserWarning: As of openai&gt;=1.0.0, if `openai_api_base` (or alias `base_url`) is specified it is expected to be of the form https://example-resource.azure.openai.com/openai/deployments/example-deployment. Updating [REDACTED] to [REDACTED]/openai.\n",
       "  warnings.warn(\n",
       "</div>"
      ]
     },
     "metadata": {
      "application/vnd.databricks.v1+output": {
       "addedWidgets": {},
       "arguments": {},
       "data": "<div class=\"ansiout\">/databricks/python/lib/python3.8/site-packages/langchain/chat_models/azure_openai.py:152: UserWarning: As of openai&gt;=1.0.0, Azure endpoints should be specified via the `azure_endpoint` param not `openai_api_base` (or alias `base_url`). Updating `openai_api_base` from [REDACTED] to [REDACTED]/openai.\n  warnings.warn(\n/databricks/python/lib/python3.8/site-packages/langchain/chat_models/azure_openai.py:159: UserWarning: As of openai&gt;=1.0.0, if `deployment_name` (or alias `azure_deployment`) is specified then `openai_api_base` (or alias `base_url`) should not be. Instead use `deployment_name` (or alias `azure_deployment`) and `azure_endpoint`.\n  warnings.warn(\n/databricks/python/lib/python3.8/site-packages/langchain/chat_models/azure_openai.py:167: UserWarning: As of openai&gt;=1.0.0, if `openai_api_base` (or alias `base_url`) is specified it is expected to be of the form https://example-resource.azure.openai.com/openai/deployments/example-deployment. Updating [REDACTED] to [REDACTED]/openai.\n  warnings.warn(\n</div>",
       "datasetInfos": [],
       "metadata": {},
       "removedWidgets": [],
       "type": "html"
      }
     },
     "output_type": "display_data"
    }
   ],
   "source": []
  },
  {
   "cell_type": "code",
   "execution_count": 0,
   "metadata": {
    "application/vnd.databricks.v1+cell": {
     "cellMetadata": {
      "byteLimit": 2048000,
      "rowLimit": 10000
     },
     "inputWidgets": {},
     "nuid": "82281c52-8ed3-4c43-9bab-c74e4c27b90a",
     "showTitle": true,
     "title": ""
    }
   },
   "outputs": [
    {
     "output_type": "display_data",
     "data": {
      "text/html": [
       "<style scoped>\n",
       "  .ansiout {\n",
       "    display: block;\n",
       "    unicode-bidi: embed;\n",
       "    white-space: pre-wrap;\n",
       "    word-wrap: break-word;\n",
       "    word-break: break-all;\n",
       "    font-family: \"Menlo\", \"Monaco\", \"Consolas\", \"Ubuntu Mono\", \"Source Code Pro\", monospace;\n",
       "    font-size: 13px;\n",
       "    color: #555;\n",
       "    margin-left: 4px;\n",
       "    line-height: 19px;\n",
       "  }\n",
       "</style>\n",
       "<div class=\"ansiout\"></div>"
      ]
     },
     "metadata": {
      "application/vnd.databricks.v1+output": {
       "addedWidgets": {},
       "arguments": {},
       "data": "<div class=\"ansiout\"></div>",
       "datasetInfos": [],
       "metadata": {},
       "removedWidgets": [],
       "type": "html"
      }
     },
     "output_type": "display_data"
    }
   ],
   "source": [
    "from ap.utils.azure.connector import AzureConnector\n",
    "from langchain.schema.messages import SystemMessage, HumanMessage\n",
    "import uuid\n",
    "import pandas as pd\n",
    "import streamlit as st\n",
    "import numpy as np\n",
    "from streamlit import set_page_config\n",
    "def generate_marketing_mail():\n",
    "    # Set page configuration\n",
    "    set_page_config(page_title=\"Marketing Mail App\")\n",
    "    # Get Azure connectors\n",
    "    client = AzureConnector.get_formrecognizer_client()\n",
    "    client = AzureConnector.get_cognitive_search_index_client()\n",
    "    model = AzureConnector.get_openai_chat_model()\n",
    "    # Set params\n",
    "    model.temperature = 0.5\n",
    "\n",
    "    df = pd.read_parquet('/dbfs/mnt/hackathon/output/merged_inputs.parquet').head()\n",
    "    df.head()\n",
    "    # COMMAND ----------\n",
    "    customers = list(set(df['CUSTOMER_NAME'].values))\n",
    "    dict_replacement = {k:uuid.uuid4().__str__() for k in customers}\n",
    "    df_00 = df.replace({'CUSTOMER_NAME':dict_replacement})\n",
    "    for _, v in dict_replacement.items():\n",
    "        df_local = df_00.query(f'CUSTOMER_NAME==\"{v}\"')\n",
    "        crops = df_local['CROP_NAME'].values\n",
    "        diseases = df_local['TARGET_NAME'].values\n",
    "        products = df_local['PRODUCT_NAME'].values\n",
    "        customer_name = df_local['CUSTOMER_NAME'].values\n",
    "        customer_city = df_local['CITY'].values\n",
    "        customer_state = df_local['STATE'].values\n",
    "        template = '''Hello dear customer [customer name],\n",
    "        As we noticed that you are growing crops like [crops] and we have detected that there is a risk for\n",
    "        diseases like [diseases] to impact your crops, we thought that products like [products] could be interesting\n",
    "        for you.\n",
    "        We would be happy to send you more information to your addres, placed at the city [city name] at the state [state].\n",
    "        Best regards,\n",
    "        Company X\n",
    "        '''\n",
    "        messages = [\n",
    "            SystemMessage(content=\"You are a sales representative from a chemical company selling treatments for crops.\"),\n",
    "            SystemMessage(content=\"Your audience are the potential customers.\"),\n",
    "            SystemMessage(content=\"Your task is to write a mail based on a template and filing missing information with data provided.\"),\n",
    "            SystemMessage(content=\"The mail should be written in a formal but fiendly way. You are expected to vary the base template. Lenght of the mail should be about 200 words\"),\n",
    "            HumanMessage(content=f\"As part of the data provided, my name as a company is Company X.\"),\n",
    "            HumanMessage(content=f\"As part of the data provided, my name as a sales rep is Mr X.\"),\n",
    "            HumanMessage(content=f\"As part of the data provided, these are the crops the customer grows: {', '.join(crops)}.\"),\n",
    "            HumanMessage(content=f\"As part of the data provided, these are the diseases that could impact these crops: {', '.join(diseases)}.\"),\n",
    "            HumanMessage(content=f\"As part of the data provided, these are the recommended products for the customer: {', '.join(products)}.\"),\n",
    "            HumanMessage(content=f\"As part of the data provided, customer name is {customer_name}, customer city is {customer_city} and customer state is {customer_state}.\"),\n",
    "            HumanMessage(content=f\"The template you could use as inspiration is as follows: {template}.\"),\n",
    "            HumanMessage(content=\"Now you can generate the mail.\")\n",
    "        ]\n",
    "        output = model(messages)\n",
    "        if st.button(\"Send\"):\n",
    "            response = model.send_message(HumanMessage(output.content))\n",
    "            st.text(f\"Bot Response: {response.text}\")\n"
   ]
  },
  {
   "cell_type": "code",
   "execution_count": 0,
   "metadata": {
    "application/vnd.databricks.v1+cell": {
     "cellMetadata": {
      "byteLimit": 2048000,
      "rowLimit": 10000
     },
     "inputWidgets": {},
     "nuid": "2ec18c37-027b-498e-ab58-45c2df4b3466",
     "showTitle": false,
     "title": ""
    }
   },
   "outputs": [
    {
     "output_type": "display_data",
     "data": {
      "text/html": [
       "<style scoped>\n",
       "  .ansiout {\n",
       "    display: block;\n",
       "    unicode-bidi: embed;\n",
       "    white-space: pre-wrap;\n",
       "    word-wrap: break-word;\n",
       "    word-break: break-all;\n",
       "    font-family: \"Menlo\", \"Monaco\", \"Consolas\", \"Ubuntu Mono\", \"Source Code Pro\", monospace;\n",
       "    font-size: 13px;\n",
       "    color: #555;\n",
       "    margin-left: 4px;\n",
       "    line-height: 19px;\n",
       "  }\n",
       "</style>\n",
       "<div class=\"ansiout\">/databricks/python/lib/python3.8/site-packages/langchain/chat_models/azure_openai.py:152: UserWarning: As of openai&gt;=1.0.0, Azure endpoints should be specified via the `azure_endpoint` param not `openai_api_base` (or alias `base_url`). Updating `openai_api_base` from [REDACTED] to [REDACTED]/openai.\n",
       "  warnings.warn(\n",
       "/databricks/python/lib/python3.8/site-packages/langchain/chat_models/azure_openai.py:159: UserWarning: As of openai&gt;=1.0.0, if `deployment_name` (or alias `azure_deployment`) is specified then `openai_api_base` (or alias `base_url`) should not be. Instead use `deployment_name` (or alias `azure_deployment`) and `azure_endpoint`.\n",
       "  warnings.warn(\n",
       "/databricks/python/lib/python3.8/site-packages/langchain/chat_models/azure_openai.py:167: UserWarning: As of openai&gt;=1.0.0, if `openai_api_base` (or alias `base_url`) is specified it is expected to be of the form https://example-resource.azure.openai.com/openai/deployments/example-deployment. Updating [REDACTED] to [REDACTED]/openai.\n",
       "  warnings.warn(\n",
       "</div>"
      ]
     },
     "metadata": {
      "application/vnd.databricks.v1+output": {
       "addedWidgets": {},
       "arguments": {},
       "data": "<div class=\"ansiout\">/databricks/python/lib/python3.8/site-packages/langchain/chat_models/azure_openai.py:152: UserWarning: As of openai&gt;=1.0.0, Azure endpoints should be specified via the `azure_endpoint` param not `openai_api_base` (or alias `base_url`). Updating `openai_api_base` from [REDACTED] to [REDACTED]/openai.\n  warnings.warn(\n/databricks/python/lib/python3.8/site-packages/langchain/chat_models/azure_openai.py:159: UserWarning: As of openai&gt;=1.0.0, if `deployment_name` (or alias `azure_deployment`) is specified then `openai_api_base` (or alias `base_url`) should not be. Instead use `deployment_name` (or alias `azure_deployment`) and `azure_endpoint`.\n  warnings.warn(\n/databricks/python/lib/python3.8/site-packages/langchain/chat_models/azure_openai.py:167: UserWarning: As of openai&gt;=1.0.0, if `openai_api_base` (or alias `base_url`) is specified it is expected to be of the form https://example-resource.azure.openai.com/openai/deployments/example-deployment. Updating [REDACTED] to [REDACTED]/openai.\n  warnings.warn(\n</div>",
       "datasetInfos": [],
       "metadata": {},
       "removedWidgets": [],
       "type": "html"
      }
     },
     "output_type": "display_data"
    }
   ],
   "source": [
    "if __name__ == \"__main__\":\n",
    "    generate_marketing_mail()"
   ]
  },
  {
   "cell_type": "code",
   "execution_count": 0,
   "metadata": {
    "application/vnd.databricks.v1+cell": {
     "cellMetadata": {
      "byteLimit": 2048000,
      "rowLimit": 10000
     },
     "inputWidgets": {},
     "nuid": "c5853700-2373-435e-970e-24b353c392de",
     "showTitle": false,
     "title": ""
    }
   },
   "outputs": [
    {
     "output_type": "display_data",
     "data": {
      "text/html": [
       "<style scoped>\n",
       "  .ansiout {\n",
       "    display: block;\n",
       "    unicode-bidi: embed;\n",
       "    white-space: pre-wrap;\n",
       "    word-wrap: break-word;\n",
       "    word-break: break-all;\n",
       "    font-family: \"Menlo\", \"Monaco\", \"Consolas\", \"Ubuntu Mono\", \"Source Code Pro\", monospace;\n",
       "    font-size: 13px;\n",
       "    color: #555;\n",
       "    margin-left: 4px;\n",
       "    line-height: 19px;\n",
       "  }\n",
       "</style>\n",
       "<div class=\"ansiout\"></div>"
      ]
     },
     "metadata": {
      "application/vnd.databricks.v1+output": {
       "addedWidgets": {},
       "arguments": {},
       "data": "<div class=\"ansiout\"></div>",
       "datasetInfos": [],
       "metadata": {},
       "removedWidgets": [],
       "type": "html"
      }
     },
     "output_type": "display_data"
    }
   ],
   "source": [
    "import os\n",
    "os.environ[\"STREAMLIT_SERVER_PORT\"] = \"8888\"\n",
    "os.environ[\"STREAMLIT_SERVER_ADDRESS\"] = \"0.0.0.0\""
   ]
  },
  {
   "cell_type": "code",
   "execution_count": 0,
   "metadata": {
    "application/vnd.databricks.v1+cell": {
     "cellMetadata": {
      "byteLimit": 2048000,
      "rowLimit": 10000
     },
     "inputWidgets": {},
     "nuid": "61660437-d8f1-420d-ac53-206d9d023de1",
     "showTitle": false,
     "title": ""
    }
   },
   "outputs": [
    {
     "output_type": "display_data",
     "data": {
      "text/html": [
       "<style scoped>\n",
       "  .ansiout {\n",
       "    display: block;\n",
       "    unicode-bidi: embed;\n",
       "    white-space: pre-wrap;\n",
       "    word-wrap: break-word;\n",
       "    word-break: break-all;\n",
       "    font-family: \"Menlo\", \"Monaco\", \"Consolas\", \"Ubuntu Mono\", \"Source Code Pro\", monospace;\n",
       "    font-size: 13px;\n",
       "    color: #555;\n",
       "    margin-left: 4px;\n",
       "    line-height: 19px;\n",
       "  }\n",
       "</style>\n",
       "<div class=\"ansiout\">Traceback (most recent call last):\r\n",
       "  File &#34;/databricks/python3/bin/streamlit&#34;, line 5, in &lt;module&gt;\r\n",
       "    from streamlit.web.cli import main\r\n",
       "  File &#34;/databricks/python3/lib/python3.8/site-packages/streamlit/__init__.py&#34;, line 56, in &lt;module&gt;\r\n",
       "    from streamlit.delta_generator import DeltaGenerator as _DeltaGenerator\r\n",
       "  File &#34;/databricks/python3/lib/python3.8/site-packages/streamlit/delta_generator.py&#34;, line 37, in &lt;module&gt;\r\n",
       "    from streamlit import config, cursor, env_util, logger, runtime, type_util, util\r\n",
       "  File &#34;/databricks/python3/lib/python3.8/site-packages/streamlit/cursor.py&#34;, line 18, in &lt;module&gt;\r\n",
       "    from streamlit.runtime.scriptrunner import get_script_run_ctx\r\n",
       "  File &#34;/databricks/python3/lib/python3.8/site-packages/streamlit/runtime/__init__.py&#34;, line 15, in &lt;module&gt;\r\n",
       "    from streamlit.runtime.runtime import Runtime, RuntimeConfig, RuntimeState\r\n",
       "  File &#34;/databricks/python3/lib/python3.8/site-packages/streamlit/runtime/runtime.py&#34;, line 28, in &lt;module&gt;\r\n",
       "    from streamlit.proto.BackMsg_pb2 import BackMsg\r\n",
       "  File &#34;/databricks/python3/lib/python3.8/site-packages/streamlit/proto/BackMsg_pb2.py&#34;, line 5, in &lt;module&gt;\r\n",
       "    from google.protobuf.internal import builder as _builder\r\n",
       "  File &#34;/databricks/python3/lib/python3.8/site-packages/google/protobuf/internal/builder.py&#34;, line 18, in &lt;module&gt;\r\n",
       "    from google.protobuf.internal import python_message\r\n",
       "  File &#34;/databricks/python3/lib/python3.8/site-packages/google/protobuf/internal/python_message.py&#34;, line 36, in &lt;module&gt;\r\n",
       "    from google.protobuf import descriptor as descriptor_mod\r\n",
       "  File &#34;/databricks/python3/lib/python3.8/site-packages/google/protobuf/descriptor.py&#34;, line 17, in &lt;module&gt;\r\n",
       "    from google.protobuf.internal import api_implementation\r\n",
       "  File &#34;/databricks/python3/lib/python3.8/site-packages/google/protobuf/internal/api_implementation.py&#34;, line 81, in &lt;module&gt;\r\n",
       "    from google.protobuf.pyext import _message\r\n",
       "TypeError: bases must be types\r\n",
       "</div>"
      ]
     },
     "metadata": {
      "application/vnd.databricks.v1+output": {
       "addedWidgets": {},
       "arguments": {},
       "data": "<div class=\"ansiout\">Traceback (most recent call last):\r\n  File &#34;/databricks/python3/bin/streamlit&#34;, line 5, in &lt;module&gt;\r\n    from streamlit.web.cli import main\r\n  File &#34;/databricks/python3/lib/python3.8/site-packages/streamlit/__init__.py&#34;, line 56, in &lt;module&gt;\r\n    from streamlit.delta_generator import DeltaGenerator as _DeltaGenerator\r\n  File &#34;/databricks/python3/lib/python3.8/site-packages/streamlit/delta_generator.py&#34;, line 37, in &lt;module&gt;\r\n    from streamlit import config, cursor, env_util, logger, runtime, type_util, util\r\n  File &#34;/databricks/python3/lib/python3.8/site-packages/streamlit/cursor.py&#34;, line 18, in &lt;module&gt;\r\n    from streamlit.runtime.scriptrunner import get_script_run_ctx\r\n  File &#34;/databricks/python3/lib/python3.8/site-packages/streamlit/runtime/__init__.py&#34;, line 15, in &lt;module&gt;\r\n    from streamlit.runtime.runtime import Runtime, RuntimeConfig, RuntimeState\r\n  File &#34;/databricks/python3/lib/python3.8/site-packages/streamlit/runtime/runtime.py&#34;, line 28, in &lt;module&gt;\r\n    from streamlit.proto.BackMsg_pb2 import BackMsg\r\n  File &#34;/databricks/python3/lib/python3.8/site-packages/streamlit/proto/BackMsg_pb2.py&#34;, line 5, in &lt;module&gt;\r\n    from google.protobuf.internal import builder as _builder\r\n  File &#34;/databricks/python3/lib/python3.8/site-packages/google/protobuf/internal/builder.py&#34;, line 18, in &lt;module&gt;\r\n    from google.protobuf.internal import python_message\r\n  File &#34;/databricks/python3/lib/python3.8/site-packages/google/protobuf/internal/python_message.py&#34;, line 36, in &lt;module&gt;\r\n    from google.protobuf import descriptor as descriptor_mod\r\n  File &#34;/databricks/python3/lib/python3.8/site-packages/google/protobuf/descriptor.py&#34;, line 17, in &lt;module&gt;\r\n    from google.protobuf.internal import api_implementation\r\n  File &#34;/databricks/python3/lib/python3.8/site-packages/google/protobuf/internal/api_implementation.py&#34;, line 81, in &lt;module&gt;\r\n    from google.protobuf.pyext import _message\r\nTypeError: bases must be types\r\n</div>",
       "datasetInfos": [],
       "metadata": {},
       "removedWidgets": [],
       "type": "html"
      }
     },
     "output_type": "display_data"
    }
   ],
   "source": [
    "!streamlit run /databricks/python_shell/scripts/PythonShell.py --server.port 8888"
   ]
  }
 ],
 "metadata": {
  "application/vnd.databricks.v1+notebook": {
   "dashboards": [],
   "language": "python",
   "notebookMetadata": {
    "pythonIndentUnit": 4
   },
   "notebookName": "Streamlit_marketing",
   "widgets": {}
  }
 },
 "nbformat": 4,
 "nbformat_minor": 0
}
